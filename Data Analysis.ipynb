{
 "cells": [
  {
   "cell_type": "code",
   "execution_count": 40,
   "metadata": {},
   "outputs": [],
   "source": [
    "%matplotlib inline\n",
    "import pandas as pd\n",
    "import numpy as np\n",
    "import matplotlib.pyplot as plt\n",
    "from scipy import stats"
   ]
  },
  {
   "cell_type": "code",
   "execution_count": 41,
   "metadata": {
    "scrolled": true
   },
   "outputs": [
    {
     "data": {
      "text/plain": [
       "([0.11010548046657018,\n",
       "  0.09064698219299316,\n",
       "  0.08695545196533203,\n",
       "  0.08644485473632812,\n",
       "  0.09125757217407227,\n",
       "  0.0953125272478376,\n",
       "  0.10184180736541748,\n",
       "  0.10962025324503581,\n",
       "  0.11751798788706462,\n",
       "  0.1272592067718506,\n",
       "  0.13772968451182047,\n",
       "  0.14962301254272461,\n",
       "  0.16251921653747559,\n",
       "  0.17610212167104086,\n",
       "  0.1975455284118652,\n",
       "  0.20673999786376954,\n",
       "  0.22912651300430298,\n",
       "  0.2455278237660726,\n",
       "  0.2666392723719279,\n",
       "  0.28809504508972167,\n",
       "  0.30944401025772095,\n",
       "  0.33376026153564453,\n",
       "  0.3608846187591553,\n",
       "  0.4265098174413045],\n",
       " [0.024445533752441406,\n",
       "  0.02149840195973714,\n",
       "  0.02544231414794922,\n",
       "  0.03283779961722238,\n",
       "  0.04428610801696777,\n",
       "  0.0578308900197347,\n",
       "  0.0724172592163086,\n",
       "  0.0944892168045044,\n",
       "  0.12003660202026367,\n",
       "  0.14254631996154785,\n",
       "  0.16588890552520752,\n",
       "  0.20703978538513185,\n",
       "  0.260273019472758,\n",
       "  0.33838576078414917,\n",
       "  0.4937381446361542,\n",
       "  0.6199180126190186,\n",
       "  0.8818848530451456,\n",
       "  1.333906957081386,\n",
       "  2.2690751552581787,\n",
       "  4.036439228057861,\n",
       "  7.648311138153076,\n",
       "  15.270593682924906,\n",
       "  31.371172618865966,\n",
       "  63.412024796009064])"
      ]
     },
     "execution_count": 41,
     "metadata": {},
     "output_type": "execute_result"
    }
   ],
   "source": [
    "df = pd.read_csv('data.csv')\n",
    "\n",
    "# Pandas Conditions\n",
    "qiskit = df['name'] == 'bench_qiskit'\n",
    "qcgpu = df['name'] == 'bench_qcgpu'\n",
    "\n",
    "# Get mean values\n",
    "means_qcgpu = []\n",
    "means_qiskit = []\n",
    "\n",
    "for i in range(24):\n",
    "    means_qcgpu.append(df[qcgpu & (df['num_qubits'] == i+1)]['time'].mean())\n",
    "    means_qiskit.append(df[qiskit & (df['num_qubits'] == i+1)]['time'].mean())\n",
    "\n",
    "means_qcgpu, means_qiskit"
   ]
  },
  {
   "cell_type": "code",
   "execution_count": 42,
   "metadata": {},
   "outputs": [
    {
     "data": {
      "image/png": "[encoded data removed]",
      "text/plain": [
       "<Figure size 432x288 with 1 Axes>"
      ]
     },
     "metadata": {
      "needs_background": "light"
     },
     "output_type": "display_data"
    }
   ],
   "source": [
    "xdata = np.arange(1, 25)\n",
    "\n",
    "plt.plot(xdata, means_qcgpu, \".\", label=\"QCGPU\")\n",
    "plt.plot(xdata, means_qiskit, \".\", label=\"Qiskit\")\n",
    "\n",
    "plt.legend()\n",
    "plt.title('QFT Performance')\n",
    "plt.xlabel('Number of Qubits')\n",
    "plt.ylabel('Runtime (seconds)')\n",
    "plt.show()"
   ]
  },
  {
   "cell_type": "code",
   "execution_count": 47,
   "metadata": {},
   "outputs": [
    {
     "data": {
      "text/plain": [
       "WilcoxonResult(statistic=61.0, pvalue=0.010995017215527)"
      ]
     },
     "execution_count": 47,
     "metadata": {},
     "output_type": "execute_result"
    }
   ],
   "source": [
    "stats.wilcoxon(means_qcgpu, means_qiskit)"
   ]
  },
  {
   "cell_type": "code",
   "execution_count": 48,
   "metadata": {},
   "outputs": [
    {
     "ename": "ValueError",
     "evalue": "Unequal N in wilcoxon.  Aborting.",
     "output_type": "error",
     "traceback": [
      "\u001b[0;31m---------------------------------------------------------------------------\u001b[0m",
      "\u001b[0;31mValueError\u001b[0m                                Traceback (most recent call last)",
      "\u001b[0;32m<ipython-input-48-21ef58bd7854>\u001b[0m in \u001b[0;36m<module>\u001b[0;34m\u001b[0m\n\u001b[0;32m----> 1\u001b[0;31m \u001b[0mstats\u001b[0m\u001b[0;34m.\u001b[0m\u001b[0mwilcoxon\u001b[0m\u001b[0;34m(\u001b[0m\u001b[0mdf\u001b[0m\u001b[0;34m[\u001b[0m\u001b[0mqcgpu\u001b[0m\u001b[0;34m]\u001b[0m\u001b[0;34m[\u001b[0m\u001b[0;34m'time'\u001b[0m\u001b[0;34m]\u001b[0m\u001b[0;34m,\u001b[0m \u001b[0mdf\u001b[0m\u001b[0;34m[\u001b[0m\u001b[0mqiskit\u001b[0m\u001b[0;34m]\u001b[0m\u001b[0;34m[\u001b[0m\u001b[0;34m'time'\u001b[0m\u001b[0;34m]\u001b[0m\u001b[0;34m)\u001b[0m\u001b[0;34m\u001b[0m\u001b[0m\n\u001b[0m",
      "\u001b[0;32m~/.local/lib/python3.6/site-packages/scipy/stats/morestats.py\u001b[0m in \u001b[0;36mwilcoxon\u001b[0;34m(x, y, zero_method, correction)\u001b[0m\n\u001b[1;32m   2377\u001b[0m         \u001b[0mx\u001b[0m\u001b[0;34m,\u001b[0m \u001b[0my\u001b[0m \u001b[0;34m=\u001b[0m \u001b[0mmap\u001b[0m\u001b[0;34m(\u001b[0m\u001b[0masarray\u001b[0m\u001b[0;34m,\u001b[0m \u001b[0;34m(\u001b[0m\u001b[0mx\u001b[0m\u001b[0;34m,\u001b[0m \u001b[0my\u001b[0m\u001b[0;34m)\u001b[0m\u001b[0;34m)\u001b[0m\u001b[0;34m\u001b[0m\u001b[0m\n\u001b[1;32m   2378\u001b[0m         \u001b[0;32mif\u001b[0m \u001b[0mlen\u001b[0m\u001b[0;34m(\u001b[0m\u001b[0mx\u001b[0m\u001b[0;34m)\u001b[0m \u001b[0;34m!=\u001b[0m \u001b[0mlen\u001b[0m\u001b[0;34m(\u001b[0m\u001b[0my\u001b[0m\u001b[0;34m)\u001b[0m\u001b[0;34m:\u001b[0m\u001b[0;34m\u001b[0m\u001b[0m\n\u001b[0;32m-> 2379\u001b[0;31m             \u001b[0;32mraise\u001b[0m \u001b[0mValueError\u001b[0m\u001b[0;34m(\u001b[0m\u001b[0;34m'Unequal N in wilcoxon.  Aborting.'\u001b[0m\u001b[0;34m)\u001b[0m\u001b[0;34m\u001b[0m\u001b[0m\n\u001b[0m\u001b[1;32m   2380\u001b[0m         \u001b[0md\u001b[0m \u001b[0;34m=\u001b[0m \u001b[0mx\u001b[0m \u001b[0;34m-\u001b[0m \u001b[0my\u001b[0m\u001b[0;34m\u001b[0m\u001b[0m\n\u001b[1;32m   2381\u001b[0m \u001b[0;34m\u001b[0m\u001b[0m\n",
      "\u001b[0;31mValueError\u001b[0m: Unequal N in wilcoxon.  Aborting."
     ]
    }
   ],
   "source": [
    "stats.wilcoxon(df[qcgpu]['time'], df[qiskit]['time'])"
   ]
  },
  {
   "cell_type": "code",
   "execution_count": null,
   "metadata": {},
   "outputs": [],
   "source": []
  }
 ],
 "metadata": {
  "kernelspec": {
   "display_name": "Python 3",
   "language": "python",
   "name": "python3"
  },
  "language_info": {
   "codemirror_mode": {
    "name": "ipython",
    "version": 3
   },
   "file_extension": ".py",
   "mimetype": "text/x-python",
   "name": "python",
   "nbconvert_exporter": "python",
   "pygments_lexer": "ipython3",
   "version": "3.6.6"
  }
 },
 "nbformat": 4,
 "nbformat_minor": 2
}
