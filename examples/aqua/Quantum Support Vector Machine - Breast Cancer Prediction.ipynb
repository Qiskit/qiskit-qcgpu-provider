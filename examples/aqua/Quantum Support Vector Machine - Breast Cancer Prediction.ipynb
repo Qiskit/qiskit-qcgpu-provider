{
 "cells": [
  {
   "cell_type": "markdown",
   "metadata": {},
   "source": [
    "# Introduction\n",
    "\n",
    "A support vector machine (SVM) is a type of machine learning algorithm. It's purpose is to do classification problems. It can handle continuous and categorical variables.\n",
    "The classification method is to construct a hyperplane in multidimensional space to separate different classes.\n",
    "SVM generates this hyperplane iteratively, trying to minimize the error.\n",
    "\n",
    "<img src=\"https://openclipart.org/image/2400px/svg_to_png/182977/svm1.png\" alt=\"Support Vector Machine Diagram\" style=\"max-height: 300px;\"/>"
   ]
  },
  {
   "cell_type": "markdown",
   "metadata": {},
   "source": [
    "# Data\n",
    "\n",
    "First, a dataset must be prepared. In this example, the Breast Cancer Wisconsin dataset is used. This is a dataset provided by scikit learn.\n",
    "\n",
    "The data has 30 features (mean radius, mean texture, ....), and is classified in two ways, malignant and benign.\n",
    "\n",
    "First, some python packages must be imported to do the dataprocessing with."
   ]
  },
  {
   "cell_type": "code",
   "execution_count": 1,
   "metadata": {},
   "outputs": [],
   "source": [
    "import numpy as np\n",
    "import scipy\n",
    "from scipy.linalg import expm\n",
    "import matplotlib.pyplot as plt\n",
    "from mpl_toolkits.mplot3d import Axes3D\n",
    "from sklearn import datasets\n",
    "from sklearn.model_selection import train_test_split\n",
    "from sklearn.preprocessing import StandardScaler, MinMaxScaler\n",
    "from sklearn.decomposition import PCA"
   ]
  },
  {
   "cell_type": "markdown",
   "metadata": {},
   "source": [
    "With these packages, the dataset can now be loaded."
   ]
  },
  {
   "cell_type": "code",
   "execution_count": 2,
   "metadata": {},
   "outputs": [],
   "source": [
    "def breast_cancer(training_size, test_size, n, PLOT_DATA=True):\n",
    "    class_labels = [r'Benign', r'Malignant']\n",
    "    \n",
    "    # First the dataset must be imported.\n",
    "    cancer = datasets.load_breast_cancer()\n",
    "    \n",
    "    # To find if the classifier is accurate, a common strategy is\n",
    "    # to divide the dataset into a training set and a test set.\n",
    "    # Here the data is divided into 70% training, 30% testing.\n",
    "    X_train, X_test, Y_train, Y_test = train_test_split(cancer.data, cancer.target, test_size=0.3, random_state=109)\n",
    "    \n",
    "    # Now the dataset's features will be standardized\n",
    "    # to fit a normal distribution.\n",
    "    scaler = StandardScaler().fit(X_train)\n",
    "    X_train = scaler.transform(X_train)\n",
    "    X_test = scaler.transform(X_test)\n",
    "    \n",
    "    # To be able to use this data with the given\n",
    "    # number of qubits, the data must be broken down from\n",
    "    # 30 dimensions to `n` dimensions.\n",
    "    # This is done with Principal Component Analysis (PCA),\n",
    "    # which finds patterns while keeping variation.\n",
    "    pca = PCA(n_components=n).fit(X_train)\n",
    "    X_train = pca.transform(X_train)\n",
    "    X_test = pca.transform(X_test)\n",
    "\n",
    "    # The last step in the data processing is\n",
    "    # to scale the data to be between -1 and 1\n",
    "    samples = np.append(X_train, X_test, axis=0)\n",
    "    minmax_scale = MinMaxScaler((-1, 1)).fit(samples)\n",
    "    X_train = minmax_scale.transform(X_train)\n",
    "    X_test = minmax_scale.transform(X_test)\n",
    "\n",
    "    # Now some sample should be picked to train the model from\n",
    "    training_input = {key: (X_train[Y_train == k, :])[:training_size] for k, key in enumerate(class_labels)}\n",
    "    test_input = {key: (X_train[Y_train == k, :])[training_size:(\n",
    "        training_size+test_size)] for k, key in enumerate(class_labels)}\n",
    "\n",
    "    if PLOT_DATA:\n",
    "        for k in range(0, 2):\n",
    "            x_axis_data = X_train[Y_train == k, 0][:training_size]\n",
    "            y_axis_data = X_train[Y_train == k, 1][:training_size]\n",
    "            \n",
    "            label = 'Malignant' if k is 1 else 'Benign'\n",
    "            plt.scatter(x_axis_data, y_axis_data, label=label)\n",
    "\n",
    "        plt.title(\"Breast Cancer Dataset (Dimensionality Reduced With PCA)\")\n",
    "        plt.legend()\n",
    "        plt.show()\n",
    "        \n",
    "\n",
    "    return X_train, training_input, test_input, class_labels"
   ]
  },
  {
   "cell_type": "markdown",
   "metadata": {},
   "source": [
    "# Algorithm Preperation\n",
    "\n",
    "With the dataset prepared, the dataset can now be used.\n",
    "Here, the data is split up so that the algorithm input can be generated."
   ]
  },
  {
   "cell_type": "code",
   "execution_count": 3,
   "metadata": {},
   "outputs": [
    {
     "data": {
      "image/png": "[encoded data removed]",
      "text/plain": [
       "<Figure size 432x288 with 1 Axes>"
      ]
     },
     "metadata": {
      "needs_background": "light"
     },
     "output_type": "display_data"
    },
    {
     "name": "stdout",
     "output_type": "stream",
     "text": [
      "{'Benign': 0, 'Malignant': 1}\n"
     ]
    }
   ],
   "source": [
    "from qiskit_aqua.utils import split_dataset_to_data_and_labels\n",
    "\n",
    "n = 2 # How many features to use (dimensionality)\n",
    "training_dataset_size = 20\n",
    "testing_dataset_size = 10\n",
    "\n",
    "sample_Total, training_input, test_input, class_labels = breast_cancer(training_dataset_size, testing_dataset_size, n)\n",
    "\n",
    "datapoints, class_to_label = split_dataset_to_data_and_labels(test_input)\n",
    "print(class_to_label)\n"
   ]
  },
  {
   "cell_type": "markdown",
   "metadata": {},
   "source": [
    "The algorithm inputs are initialized before.\n",
    "To build the Support Vector Machine, a feature map has to be initialized.\n",
    "\n",
    "It is in this section that QCGPU, the software developed in this project is used. Because of the integration with IBM's software, it can be used seamlessly instead of there simulation backend, providing a speedup.\n",
    "\n",
    "This speedup means that algorithms such as this can be tested quicker, allowing for faster prototyping and thus better algorithms overall."
   ]
  },
  {
   "cell_type": "code",
   "execution_count": 5,
   "metadata": {},
   "outputs": [
    {
     "name": "stdout",
     "output_type": "stream",
     "text": [
      "CPU times: user 1min 10s, sys: 4.27 s, total: 1min 15s\n",
      "Wall time: 1min 46s\n",
      "CPU times: user 1min 2s, sys: 5.27 s, total: 1min 7s\n",
      "Wall time: 1min 30s\n"
     ]
    }
   ],
   "source": [
    "from qiskit_aqua.input import SVMInput\n",
    "from qiskit_qcgpu_provider import QCGPUProvider\n",
    "from qiskit_aqua import run_algorithm\n",
    "\n",
    "params = {\n",
    "    'problem': {'name': 'svm_classification', 'random_seed': 10598},\n",
    "    'algorithm': { 'name': 'QSVM.Kernel' },\n",
    "    'backend': {'name': 'qasm_simulator', 'shots': 1024},\n",
    "    'feature_map': {'name': 'SecondOrderExpansion', 'depth': 2, 'entanglement': 'linear'}\n",
    "}\n",
    "\n",
    "backend = QCGPUProvider().get_backend('qasm_simulator')\n",
    "\n",
    "algo_input = SVMInput(training_input, test_input, datapoints[0])\n",
    "%time result = run_algorithm(params, algo_input)\n",
    "%time result = run_algorithm(params, algo_input, backend=backend)"
   ]
  },
  {
   "cell_type": "markdown",
   "metadata": {},
   "source": [
    "# Running The Algorithm\n",
    "\n",
    "With everything setup, the algorithm can now be run.\n",
    "The run method does everything, including the training testing \n",
    "and prediciton on unlabeled data. We can also find data such as the\n",
    "success ratio.\n",
    "\n",
    "The trained model is stored in the `svm` variable.\n",
    "This is them used to predict some datapoints, which is then analyzed in the next section"
   ]
  },
  {
   "cell_type": "code",
   "execution_count": 6,
   "metadata": {},
   "outputs": [
    {
     "name": "stdout",
     "output_type": "stream",
     "text": [
      "ground truth:    [0 0 0 0 0 0 0 0 0 0 1 1 1 1 1 1 1 1 1 1]\n",
      "prediction:      [0 1 0 0 0 1 0 0 1 0 1 1 0 1 1 0 1 1 1 1]\n",
      "predicted class: ['Benign', 'Malignant', 'Benign', 'Benign', 'Benign', 'Malignant', 'Benign', 'Benign', 'Malignant', 'Benign', 'Malignant', 'Malignant', 'Benign', 'Malignant', 'Malignant', 'Benign', 'Malignant', 'Malignant', 'Malignant', 'Malignant']\n",
      "accuracy:        0.75\n"
     ]
    }
   ],
   "source": [
    "print(\"ground truth:    {}\".format(datapoints[1]))\n",
    "print(\"prediction:      {}\".format(result['predicted_labels']))\n",
    "print(\"predicted class: {}\".format(result['predicted_classes']))\n",
    "print(\"accuracy:        {}\".format(result['testing_accuracy']))"
   ]
  },
  {
   "cell_type": "code",
   "execution_count": null,
   "metadata": {},
   "outputs": [],
   "source": []
  }
 ],
 "metadata": {
  "kernelspec": {
   "display_name": "Python 3",
   "language": "python",
   "name": "python3"
  },
  "language_info": {
   "codemirror_mode": {
    "name": "ipython",
    "version": 3
   },
   "file_extension": ".py",
   "mimetype": "text/x-python",
   "name": "python",
   "nbconvert_exporter": "python",
   "pygments_lexer": "ipython3",
   "version": "3.6.6"
  }
 },
 "nbformat": 4,
 "nbformat_minor": 2
}
