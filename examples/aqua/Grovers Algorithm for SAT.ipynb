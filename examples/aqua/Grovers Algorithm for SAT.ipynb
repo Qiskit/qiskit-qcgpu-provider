{
 "cells": [
  {
   "cell_type": "code",
   "execution_count": 1,
   "metadata": {},
   "outputs": [],
   "source": [
    "from qiskit_aqua import run_algorithm\n",
    "from qiskit_qcgpu_provider import QCGPUProvider\n",
    "\n",
    "sat_cnf = \"\"\"\n",
    "c Example DIMACS 3-sat\n",
    "p cnf 3 5\n",
    "-1 -2 -3 0\n",
    "1 -2 3 0\n",
    "1 2 -3 0\n",
    "1 -2 -3 0\n",
    "-1 2 3 0\n",
    "\"\"\"\n",
    "\n",
    "params = {\n",
    "  \"problem\": { \"name\": \"search\" },\n",
    "  \"algorithm\": { \"name\": \"Grover\" },\n",
    "  \"oracle\": { \"name\": \"SAT\", \"cnf\": sat_cnf },\n",
    "  \"backend\": { \"name\": \"qasm_simulator\" }\n",
    "}\n"
   ]
  },
  {
   "cell_type": "code",
   "execution_count": 2,
   "metadata": {},
   "outputs": [
    {
     "name": "stdout",
     "output_type": "stream",
     "text": [
      "CPU times: user 962 ms, sys: 28.2 ms, total: 991 ms\n",
      "Wall time: 1.08 s\n",
      "CPU times: user 302 ms, sys: 99.7 ms, total: 402 ms\n",
      "Wall time: 530 ms\n"
     ]
    }
   ],
   "source": [
    "backend = QCGPUProvider().get_backend('qasm_simulator')\n",
    "%time result_qiskit = run_algorithm(params)\n",
    "%time result = run_algorithm(params, backend=backend)"
   ]
  },
  {
   "cell_type": "code",
   "execution_count": 3,
   "metadata": {},
   "outputs": [
    {
     "name": "stdout",
     "output_type": "stream",
     "text": [
      "[-1, -2, -3]\n"
     ]
    }
   ],
   "source": [
    "print(result[\"result\"])"
   ]
  },
  {
   "cell_type": "code",
   "execution_count": null,
   "metadata": {},
   "outputs": [],
   "source": []
  }
 ],
 "metadata": {
  "kernelspec": {
   "display_name": "Python 3",
   "language": "python",
   "name": "python3"
  },
  "language_info": {
   "codemirror_mode": {
    "name": "ipython",
    "version": 3
   },
   "file_extension": ".py",
   "mimetype": "text/x-python",
   "name": "python",
   "nbconvert_exporter": "python",
   "pygments_lexer": "ipython3",
   "version": "3.6.6"
  }
 },
 "nbformat": 4,
 "nbformat_minor": 2
}
